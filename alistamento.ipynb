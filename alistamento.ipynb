{
  "nbformat": 4,
  "nbformat_minor": 0,
  "metadata": {
    "colab": {
      "provenance": [],
      "authorship_tag": "ABX9TyOkbNz/gLn5RB+xWKKjFUUk"
    },
    "kernelspec": {
      "name": "python3",
      "display_name": "Python 3"
    },
    "language_info": {
      "name": "python"
    }
  },
  "cells": [
    {
      "cell_type": "code",
      "execution_count": null,
      "metadata": {
        "colab": {
          "base_uri": "https://localhost:8080/"
        },
        "id": "Baf1v2GbW0Dy",
        "outputId": "a3818e22-4008-4c4d-cd9f-4cf2d3a06e23"
      },
      "outputs": [
        {
          "output_type": "stream",
          "name": "stdout",
          "text": [
            "Olá,seja muito Bem Vindo ao site do alistamento do Exército Brasileiro,para prosseguirmos coloque seus dados abaixo \n",
            "Digite seu primeiro nome:x\n",
            "------------------------------------------------------------------------------------------------------\n",
            "Digite seu segundo nome:g\n",
            "------------------------------------------------------------------------------------------------------\n",
            "Digite o ano que você nasceu 90\n",
            "------------------------------------------------------------------------------------------------------\n",
            "Olá X G,você nasceu em 90,então atualmente você tem 1934 anos de idade\n",
            "------------------------------------------------------------------------------------------------------\n",
            "Já passou  do prazo para você se alistar,você devieria ter se alistado a 1916 anos \n",
            "vá urgentemente para um TG mais próximo de você ou \n",
            " entre em www.alistamento.eb.mil.br para se alistar.\n"
          ]
        }
      ],
      "source": [
        "from datetime import date\n",
        "atual = date.today().year\n",
        "print('Olá,seja muito Bem Vindo ao site do alistamento do Exército Brasileiro,para prosseguirmos coloque seus dados abaixo ')\n",
        "nome1 = str(input('Digite seu primeiro nome:')).capitalize()\n",
        "print('------------------------------------------------------------------------------------------------------')\n",
        "nome2 = str(input('Digite seu segundo nome:')).capitalize()\n",
        "print('------------------------------------------------------------------------------------------------------')\n",
        "idade = int(input('Digite o ano que você nasceu '))\n",
        "print('------------------------------------------------------------------------------------------------------')\n",
        "idade2 = atual - idade\n",
        "print('Olá {} {},você nasceu em {},então atualmente você tem {} anos de idade'.format(nome1, nome2, idade,idade2))\n",
        "print('------------------------------------------------------------------------------------------------------')\n",
        "if idade2 == 19:\n",
        "    print('Já está na hora de você se alistar.')\n",
        "elif idade2 >= 19:\n",
        "    saldo = idade2 - 18\n",
        "    print('''Já passou  do prazo para você se alistar,você devieria ter se alistado a {} anos\n",
        "vá urgentemente para um TG mais próximo de você ou \\n entre em www.alistamento.eb.mil.br para se alistar.'''.format(saldo))\n",
        "elif idade2 <= 17:\n",
        "    saldo = 18 - idade2\n",
        "    print('''Ainda não está na hora de você se alistar,ainda faltam {} anos para você se alistar,fique atento'''.format(saldo))"
      ]
    }
  ]
}